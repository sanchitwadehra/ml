{
 "cells": [
  {
   "cell_type": "code",
   "execution_count": 8,
   "id": "a7cfef88-a53d-44ff-9ad2-56873c205754",
   "metadata": {},
   "outputs": [],
   "source": [
    "import pandas as pd\n",
    "import statistics as st\n",
    "import numpy as nm"
   ]
  },
  {
   "cell_type": "code",
   "execution_count": 11,
   "id": "d60f7451-d1e2-427f-950e-f0bc695e51a3",
   "metadata": {},
   "outputs": [],
   "source": [
    "data=pd.read_csv('a.csv')"
   ]
  },
  {
   "cell_type": "code",
   "execution_count": 12,
   "id": "0f5aa061-3170-47df-b06e-0d6d351dfa8a",
   "metadata": {},
   "outputs": [
    {
     "name": "stdout",
     "output_type": "stream",
     "text": [
      "         Area  BHK  Bathroom      Furnishing  \\\n",
      "0       800.0    3       2.0  Semi-Furnished   \n",
      "1       750.0    2       2.0  Semi-Furnished   \n",
      "2       950.0    2       2.0       Furnished   \n",
      "3       600.0    2       2.0  Semi-Furnished   \n",
      "4       650.0    2       2.0  Semi-Furnished   \n",
      "...       ...  ...       ...             ...   \n",
      "1254   4118.0    4       5.0     Unfurnished   \n",
      "1255   1050.0    3       2.0  Semi-Furnished   \n",
      "1256    875.0    3       3.0  Semi-Furnished   \n",
      "1257    990.0    2       2.0     Unfurnished   \n",
      "1258  11050.0    3       3.0     Unfurnished   \n",
      "\n",
      "                                               Locality  Parking     Price  \\\n",
      "0                                      Rohini Sector 25      1.0   6500000   \n",
      "1                J R Designers Floors, Rohini Sector 24      1.0   5000000   \n",
      "2                   Citizen Apartment, Rohini Sector 13      1.0  15500000   \n",
      "3                                      Rohini Sector 24      1.0   4200000   \n",
      "4     Rohini Sector 24 carpet area 650 sqft status R...      1.0   6200000   \n",
      "...                                                 ...      ...       ...   \n",
      "1254                                  Chittaranjan Park      3.0  55000000   \n",
      "1255                                  Chittaranjan Park      3.0  12500000   \n",
      "1256                                  Chittaranjan Park      3.0  17500000   \n",
      "1257                          Chittaranjan Park Block A      1.0  11500000   \n",
      "1258                                  Chittaranjan Park      1.0  18500000   \n",
      "\n",
      "             Status   Transaction           Type  Per_Sqft  \n",
      "0     Ready_to_move  New_Property  Builder_Floor       NaN  \n",
      "1     Ready_to_move  New_Property      Apartment    6667.0  \n",
      "2     Ready_to_move        Resale      Apartment    6667.0  \n",
      "3     Ready_to_move        Resale  Builder_Floor    6667.0  \n",
      "4     Ready_to_move  New_Property  Builder_Floor    6667.0  \n",
      "...             ...           ...            ...       ...  \n",
      "1254  Ready_to_move  New_Property  Builder_Floor   12916.0  \n",
      "1255  Ready_to_move        Resale  Builder_Floor   12916.0  \n",
      "1256  Ready_to_move  New_Property  Builder_Floor   12916.0  \n",
      "1257  Ready_to_move        Resale  Builder_Floor   12916.0  \n",
      "1258  Ready_to_move  New_Property  Builder_Floor   12916.0  \n",
      "\n",
      "[1259 rows x 11 columns]\n"
     ]
    }
   ],
   "source": [
    "print(data)"
   ]
  },
  {
   "cell_type": "code",
   "execution_count": 15,
   "id": "9ae4a817-2aa0-435e-837d-a7f94454453e",
   "metadata": {},
   "outputs": [
    {
     "data": {
      "text/plain": [
       "1466.4527241461478"
      ]
     },
     "execution_count": 15,
     "metadata": {},
     "output_type": "execute_result"
    }
   ],
   "source": [
    "st.mean(data['Area'])"
   ]
  },
  {
   "cell_type": "code",
   "execution_count": 20,
   "id": "52b1322b-b8d8-4b89-8307-30c25518d670",
   "metadata": {},
   "outputs": [
    {
     "data": {
      "text/html": [
       "<div>\n",
       "<style scoped>\n",
       "    .dataframe tbody tr th:only-of-type {\n",
       "        vertical-align: middle;\n",
       "    }\n",
       "\n",
       "    .dataframe tbody tr th {\n",
       "        vertical-align: top;\n",
       "    }\n",
       "\n",
       "    .dataframe thead th {\n",
       "        text-align: right;\n",
       "    }\n",
       "</style>\n",
       "<table border=\"1\" class=\"dataframe\">\n",
       "  <thead>\n",
       "    <tr style=\"text-align: right;\">\n",
       "      <th></th>\n",
       "      <th>Area</th>\n",
       "      <th>BHK</th>\n",
       "      <th>Bathroom</th>\n",
       "      <th>Parking</th>\n",
       "      <th>Price</th>\n",
       "      <th>Per_Sqft</th>\n",
       "    </tr>\n",
       "  </thead>\n",
       "  <tbody>\n",
       "    <tr>\n",
       "      <th>count</th>\n",
       "      <td>1259.000000</td>\n",
       "      <td>1259.000000</td>\n",
       "      <td>1257.000000</td>\n",
       "      <td>1226.000000</td>\n",
       "      <td>1.259000e+03</td>\n",
       "      <td>1018.000000</td>\n",
       "    </tr>\n",
       "    <tr>\n",
       "      <th>mean</th>\n",
       "      <td>1466.452724</td>\n",
       "      <td>2.796664</td>\n",
       "      <td>2.556086</td>\n",
       "      <td>1.935563</td>\n",
       "      <td>2.130670e+07</td>\n",
       "      <td>15690.136542</td>\n",
       "    </tr>\n",
       "    <tr>\n",
       "      <th>std</th>\n",
       "      <td>1568.055040</td>\n",
       "      <td>0.954425</td>\n",
       "      <td>1.042220</td>\n",
       "      <td>6.279212</td>\n",
       "      <td>2.560115e+07</td>\n",
       "      <td>21134.738568</td>\n",
       "    </tr>\n",
       "    <tr>\n",
       "      <th>min</th>\n",
       "      <td>28.000000</td>\n",
       "      <td>1.000000</td>\n",
       "      <td>1.000000</td>\n",
       "      <td>1.000000</td>\n",
       "      <td>1.000000e+06</td>\n",
       "      <td>1259.000000</td>\n",
       "    </tr>\n",
       "    <tr>\n",
       "      <th>25%</th>\n",
       "      <td>800.000000</td>\n",
       "      <td>2.000000</td>\n",
       "      <td>2.000000</td>\n",
       "      <td>1.000000</td>\n",
       "      <td>5.700000e+06</td>\n",
       "      <td>6364.000000</td>\n",
       "    </tr>\n",
       "    <tr>\n",
       "      <th>50%</th>\n",
       "      <td>1200.000000</td>\n",
       "      <td>3.000000</td>\n",
       "      <td>2.000000</td>\n",
       "      <td>1.000000</td>\n",
       "      <td>1.420000e+07</td>\n",
       "      <td>11291.500000</td>\n",
       "    </tr>\n",
       "    <tr>\n",
       "      <th>75%</th>\n",
       "      <td>1700.000000</td>\n",
       "      <td>3.000000</td>\n",
       "      <td>3.000000</td>\n",
       "      <td>2.000000</td>\n",
       "      <td>2.550000e+07</td>\n",
       "      <td>18000.000000</td>\n",
       "    </tr>\n",
       "    <tr>\n",
       "      <th>max</th>\n",
       "      <td>24300.000000</td>\n",
       "      <td>10.000000</td>\n",
       "      <td>7.000000</td>\n",
       "      <td>114.000000</td>\n",
       "      <td>2.400000e+08</td>\n",
       "      <td>183333.000000</td>\n",
       "    </tr>\n",
       "  </tbody>\n",
       "</table>\n",
       "</div>"
      ],
      "text/plain": [
       "               Area          BHK     Bathroom      Parking         Price  \\\n",
       "count   1259.000000  1259.000000  1257.000000  1226.000000  1.259000e+03   \n",
       "mean    1466.452724     2.796664     2.556086     1.935563  2.130670e+07   \n",
       "std     1568.055040     0.954425     1.042220     6.279212  2.560115e+07   \n",
       "min       28.000000     1.000000     1.000000     1.000000  1.000000e+06   \n",
       "25%      800.000000     2.000000     2.000000     1.000000  5.700000e+06   \n",
       "50%     1200.000000     3.000000     2.000000     1.000000  1.420000e+07   \n",
       "75%     1700.000000     3.000000     3.000000     2.000000  2.550000e+07   \n",
       "max    24300.000000    10.000000     7.000000   114.000000  2.400000e+08   \n",
       "\n",
       "            Per_Sqft  \n",
       "count    1018.000000  \n",
       "mean    15690.136542  \n",
       "std     21134.738568  \n",
       "min      1259.000000  \n",
       "25%      6364.000000  \n",
       "50%     11291.500000  \n",
       "75%     18000.000000  \n",
       "max    183333.000000  "
      ]
     },
     "execution_count": 20,
     "metadata": {},
     "output_type": "execute_result"
    }
   ],
   "source": [
    "data.describe()"
   ]
  },
  {
   "cell_type": "code",
   "execution_count": null,
   "id": "2877fe5e-d6c8-4e7b-a4d2-3f875831fe3f",
   "metadata": {},
   "outputs": [],
   "source": []
  }
 ],
 "metadata": {
  "kernelspec": {
   "display_name": "Python 3 (ipykernel)",
   "language": "python",
   "name": "python3"
  },
  "language_info": {
   "codemirror_mode": {
    "name": "ipython",
    "version": 3
   },
   "file_extension": ".py",
   "mimetype": "text/x-python",
   "name": "python",
   "nbconvert_exporter": "python",
   "pygments_lexer": "ipython3",
   "version": "3.12.1"
  }
 },
 "nbformat": 4,
 "nbformat_minor": 5
}
