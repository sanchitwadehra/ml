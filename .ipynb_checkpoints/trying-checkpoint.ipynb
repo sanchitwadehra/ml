{
 "cells": [
  {
   "cell_type": "code",
   "execution_count": 2,
   "id": "a7cfef88-a53d-44ff-9ad2-56873c205754",
   "metadata": {},
   "outputs": [],
   "source": [
    "import pandas as pd"
   ]
  },
  {
   "cell_type": "code",
   "execution_count": 3,
   "id": "142abf89-5347-415d-a2c9-d92d3c420c69",
   "metadata": {},
   "outputs": [],
   "source": [
    "data = {'Name': ['Raj', 'Simran', 'Aman'],\n",
    "        'Age': [25, 22, 28],\n",
    "        'City': ['Amritsar', 'Ludhiana', 'Chandigarh']}"
   ]
  },
  {
   "cell_type": "code",
   "execution_count": 4,
   "id": "8f389fa3-f333-4fa7-a465-0701b28c2ea6",
   "metadata": {},
   "outputs": [
    {
     "name": "stdout",
     "output_type": "stream",
     "text": [
      "     Name  Age        City\n",
      "0     Raj   25    Amritsar\n",
      "1  Simran   22    Ludhiana\n",
      "2    Aman   28  Chandigarh\n"
     ]
    }
   ],
   "source": [
    "df = pd.DataFrame(data)\n",
    "print(df)"
   ]
  },
  {
   "cell_type": "code",
   "execution_count": 5,
   "id": "a49c8f2e-1ebd-4b23-a6a2-deb9cadc3657",
   "metadata": {},
   "outputs": [
    {
     "name": "stdout",
     "output_type": "stream",
     "text": [
      "     Name  Age        City\n",
      "0     Raj   25    Amritsar\n",
      "1  Simran   22    Ludhiana\n",
      "2    Aman   28  Chandigarh\n"
     ]
    }
   ],
   "source": [
    "print(df)"
   ]
  },
  {
   "cell_type": "code",
   "execution_count": null,
   "id": "0d7dfe93-2101-43ea-97e6-8282fe853a5d",
   "metadata": {},
   "outputs": [],
   "source": []
  }
 ],
 "metadata": {
  "kernelspec": {
   "display_name": "Python 3 (ipykernel)",
   "language": "python",
   "name": "python3"
  },
  "language_info": {
   "codemirror_mode": {
    "name": "ipython",
    "version": 3
   },
   "file_extension": ".py",
   "mimetype": "text/x-python",
   "name": "python",
   "nbconvert_exporter": "python",
   "pygments_lexer": "ipython3",
   "version": "3.12.1"
  }
 },
 "nbformat": 4,
 "nbformat_minor": 5
}
