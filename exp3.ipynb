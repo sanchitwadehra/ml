{
 "cells": [
  {
   "cell_type": "code",
   "execution_count": 1,
   "id": "fd26e7b1",
   "metadata": {},
   "outputs": [],
   "source": [
    "import pandas as pd\n",
    "import statistics as st\n",
    "import numpy as nm\n",
    "import seaborn as sns\n",
    "import matplotlib.pyplot as plt"
   ]
  },
  {
   "cell_type": "code",
   "execution_count": 2,
   "id": "a6d57d46",
   "metadata": {},
   "outputs": [],
   "source": [
    "data=pd.read_csv('exp3.csv')"
   ]
  },
  {
   "cell_type": "code",
   "execution_count": 3,
   "id": "58005da6",
   "metadata": {},
   "outputs": [
    {
     "name": "stdout",
     "output_type": "stream",
     "text": [
      "        Id  MSSubClass LotFrontage  LotArea LotConfig Neighborhood BldgType  \\\n",
      "0     1461        20.0          80    11622    Inside        NAmes     1Fam   \n",
      "1     1462        20.0          ##    14267    Corner        NAmes     1Fam   \n",
      "2     1463        60.0          74    13830    Inside      Gilbert     1Fam   \n",
      "3     1464        60.0          78     9978    Inside      Gilbert       Na   \n",
      "4     1465       120.0          43     5005    Inside      StoneBr   TwnhsE   \n",
      "...    ...         ...         ...      ...       ...          ...      ...   \n",
      "1454  2915       160.0          21     1936    Inside      MeadowV    Twnhs   \n",
      "1455  2916       160.0          21     1894    Inside      MeadowV   TwnhsE   \n",
      "1456  2917        20.0         160    20000    Inside      Mitchel     1Fam   \n",
      "1457  2918        85.0          62    10441    Inside      Mitchel     1Fam   \n",
      "1458  2919        60.0          74     9627    Inside      Mitchel     1Fam   \n",
      "\n",
      "     HouseStyle OverallQual OverallCond  YearBuilt RoofStyle  TotalBsmtSF  \\\n",
      "0        1Story           5           6       1961     Gable        882.0   \n",
      "1        1Story           6           6       1958       Hip       1329.0   \n",
      "2        2Story         NaN           5       1997     Gable        928.0   \n",
      "3             ?           6           6       1998         #        926.0   \n",
      "4        1Story           8         Nan       1992     Gable       1280.0   \n",
      "...         ...         ...         ...        ...       ...          ...   \n",
      "1454     2Story           4           7       1970     Gable        546.0   \n",
      "1455     2Story           4           5       1970     Gable        546.0   \n",
      "1456     1Story           5           7       1960     Gable       1224.0   \n",
      "1457     SFoyer           5           5       1992     Gable        912.0   \n",
      "1458     2Story           7           5       1993     Gable        996.0   \n",
      "\n",
      "      GrLivArea BedroomAbvGr  TotRmsAbvGrd  GarageArea  \n",
      "0           896            2             5       730.0  \n",
      "1          1329            3             6       312.0  \n",
      "2          1629            3             6       482.0  \n",
      "3          1604            3             7       470.0  \n",
      "4          1280            2             5       506.0  \n",
      "...         ...          ...           ...         ...  \n",
      "1454       1092            3             5         0.0  \n",
      "1455       1092            3             6       286.0  \n",
      "1456       1224            4             7       576.0  \n",
      "1457        970            3             6         0.0  \n",
      "1458       2000            3             9       650.0  \n",
      "\n",
      "[1459 rows x 17 columns]\n"
     ]
    }
   ],
   "source": [
    "print(data)"
   ]
  },
  {
   "cell_type": "code",
   "execution_count": 4,
   "id": "014d5e07",
   "metadata": {},
   "outputs": [
    {
     "data": {
      "text/html": [
       "<div>\n",
       "<style scoped>\n",
       "    .dataframe tbody tr th:only-of-type {\n",
       "        vertical-align: middle;\n",
       "    }\n",
       "\n",
       "    .dataframe tbody tr th {\n",
       "        vertical-align: top;\n",
       "    }\n",
       "\n",
       "    .dataframe thead th {\n",
       "        text-align: right;\n",
       "    }\n",
       "</style>\n",
       "<table border=\"1\" class=\"dataframe\">\n",
       "  <thead>\n",
       "    <tr style=\"text-align: right;\">\n",
       "      <th></th>\n",
       "      <th>Id</th>\n",
       "      <th>MSSubClass</th>\n",
       "      <th>LotArea</th>\n",
       "      <th>YearBuilt</th>\n",
       "      <th>TotalBsmtSF</th>\n",
       "      <th>GrLivArea</th>\n",
       "      <th>TotRmsAbvGrd</th>\n",
       "      <th>GarageArea</th>\n",
       "    </tr>\n",
       "  </thead>\n",
       "  <tbody>\n",
       "    <tr>\n",
       "      <th>count</th>\n",
       "      <td>1459.000000</td>\n",
       "      <td>1456.000000</td>\n",
       "      <td>1459.000000</td>\n",
       "      <td>1459.000000</td>\n",
       "      <td>1458.000000</td>\n",
       "      <td>1459.000000</td>\n",
       "      <td>1459.000000</td>\n",
       "      <td>1458.000000</td>\n",
       "    </tr>\n",
       "    <tr>\n",
       "      <th>mean</th>\n",
       "      <td>2189.998629</td>\n",
       "      <td>58.046016</td>\n",
       "      <td>9819.161069</td>\n",
       "      <td>1971.513365</td>\n",
       "      <td>1046.117970</td>\n",
       "      <td>1486.045922</td>\n",
       "      <td>6.385195</td>\n",
       "      <td>472.768861</td>\n",
       "    </tr>\n",
       "    <tr>\n",
       "      <th>std</th>\n",
       "      <td>421.323607</td>\n",
       "      <td>47.185136</td>\n",
       "      <td>4955.517327</td>\n",
       "      <td>30.635748</td>\n",
       "      <td>442.898624</td>\n",
       "      <td>485.566099</td>\n",
       "      <td>1.508895</td>\n",
       "      <td>217.048611</td>\n",
       "    </tr>\n",
       "    <tr>\n",
       "      <th>min</th>\n",
       "      <td>1461.000000</td>\n",
       "      <td>20.000000</td>\n",
       "      <td>1470.000000</td>\n",
       "      <td>1879.000000</td>\n",
       "      <td>0.000000</td>\n",
       "      <td>407.000000</td>\n",
       "      <td>3.000000</td>\n",
       "      <td>0.000000</td>\n",
       "    </tr>\n",
       "    <tr>\n",
       "      <th>25%</th>\n",
       "      <td>1825.500000</td>\n",
       "      <td>20.000000</td>\n",
       "      <td>7391.000000</td>\n",
       "      <td>1953.000000</td>\n",
       "      <td>784.000000</td>\n",
       "      <td>1117.500000</td>\n",
       "      <td>5.000000</td>\n",
       "      <td>318.000000</td>\n",
       "    </tr>\n",
       "    <tr>\n",
       "      <th>50%</th>\n",
       "      <td>2190.000000</td>\n",
       "      <td>50.000000</td>\n",
       "      <td>9399.000000</td>\n",
       "      <td>1973.000000</td>\n",
       "      <td>988.000000</td>\n",
       "      <td>1432.000000</td>\n",
       "      <td>6.000000</td>\n",
       "      <td>480.000000</td>\n",
       "    </tr>\n",
       "    <tr>\n",
       "      <th>75%</th>\n",
       "      <td>2554.500000</td>\n",
       "      <td>70.000000</td>\n",
       "      <td>11517.500000</td>\n",
       "      <td>2001.000000</td>\n",
       "      <td>1305.000000</td>\n",
       "      <td>1721.000000</td>\n",
       "      <td>7.000000</td>\n",
       "      <td>576.000000</td>\n",
       "    </tr>\n",
       "    <tr>\n",
       "      <th>max</th>\n",
       "      <td>2919.000000</td>\n",
       "      <td>620.000000</td>\n",
       "      <td>56600.000000</td>\n",
       "      <td>2120.000000</td>\n",
       "      <td>5095.000000</td>\n",
       "      <td>5095.000000</td>\n",
       "      <td>15.000000</td>\n",
       "      <td>1488.000000</td>\n",
       "    </tr>\n",
       "  </tbody>\n",
       "</table>\n",
       "</div>"
      ],
      "text/plain": [
       "                Id   MSSubClass       LotArea    YearBuilt  TotalBsmtSF  \\\n",
       "count  1459.000000  1456.000000   1459.000000  1459.000000  1458.000000   \n",
       "mean   2189.998629    58.046016   9819.161069  1971.513365  1046.117970   \n",
       "std     421.323607    47.185136   4955.517327    30.635748   442.898624   \n",
       "min    1461.000000    20.000000   1470.000000  1879.000000     0.000000   \n",
       "25%    1825.500000    20.000000   7391.000000  1953.000000   784.000000   \n",
       "50%    2190.000000    50.000000   9399.000000  1973.000000   988.000000   \n",
       "75%    2554.500000    70.000000  11517.500000  2001.000000  1305.000000   \n",
       "max    2919.000000   620.000000  56600.000000  2120.000000  5095.000000   \n",
       "\n",
       "         GrLivArea  TotRmsAbvGrd   GarageArea  \n",
       "count  1459.000000   1459.000000  1458.000000  \n",
       "mean   1486.045922      6.385195   472.768861  \n",
       "std     485.566099      1.508895   217.048611  \n",
       "min     407.000000      3.000000     0.000000  \n",
       "25%    1117.500000      5.000000   318.000000  \n",
       "50%    1432.000000      6.000000   480.000000  \n",
       "75%    1721.000000      7.000000   576.000000  \n",
       "max    5095.000000     15.000000  1488.000000  "
      ]
     },
     "execution_count": 4,
     "metadata": {},
     "output_type": "execute_result"
    }
   ],
   "source": [
    "data.describe()"
   ]
  },
  {
   "cell_type": "code",
   "execution_count": 5,
   "id": "d44ea02a",
   "metadata": {},
   "outputs": [
    {
     "data": {
      "text/plain": [
       "Id                0\n",
       "MSSubClass        3\n",
       "LotFrontage     227\n",
       "LotArea           0\n",
       "LotConfig         0\n",
       "Neighborhood      0\n",
       "BldgType          0\n",
       "HouseStyle        0\n",
       "OverallQual       4\n",
       "OverallCond       0\n",
       "YearBuilt         0\n",
       "RoofStyle         0\n",
       "TotalBsmtSF       1\n",
       "GrLivArea         0\n",
       "BedroomAbvGr      0\n",
       "TotRmsAbvGrd      0\n",
       "GarageArea        1\n",
       "dtype: int64"
      ]
     },
     "execution_count": 5,
     "metadata": {},
     "output_type": "execute_result"
    }
   ],
   "source": [
    "data.isnull().sum()"
   ]
  },
  {
   "cell_type": "code",
   "execution_count": 7,
   "id": "a5003945",
   "metadata": {},
   "outputs": [
    {
     "data": {
      "text/plain": [
       "array([1461, 1462, 1463, ..., 2917, 2918, 2919], dtype=int64)"
      ]
     },
     "execution_count": 7,
     "metadata": {},
     "output_type": "execute_result"
    }
   ],
   "source": [
    "data['Id'].unique()"
   ]
  },
  {
   "cell_type": "code",
   "execution_count": 8,
   "id": "257fb2d2",
   "metadata": {},
   "outputs": [
    {
     "data": {
      "text/plain": [
       "1457"
      ]
     },
     "execution_count": 8,
     "metadata": {},
     "output_type": "execute_result"
    }
   ],
   "source": [
    "data['Id'].nunique()"
   ]
  },
  {
   "cell_type": "code",
   "execution_count": 9,
   "id": "f7d98c78",
   "metadata": {},
   "outputs": [
    {
     "data": {
      "text/plain": [
       "array(['1Story', '2Story', '?', 'SLvl', ':-', '__', '1.5Fin', 'SFoyer',\n",
       "       '2.5Unf', '1.5Unf'], dtype=object)"
      ]
     },
     "execution_count": 9,
     "metadata": {},
     "output_type": "execute_result"
    }
   ],
   "source": [
    "data['HouseStyle'].unique()"
   ]
  },
  {
   "cell_type": "code",
   "execution_count": 10,
   "id": "46ae3c7a",
   "metadata": {},
   "outputs": [
    {
     "data": {
      "text/plain": [
       "10"
      ]
     },
     "execution_count": 10,
     "metadata": {},
     "output_type": "execute_result"
    }
   ],
   "source": [
    "data['HouseStyle'].nunique()"
   ]
  },
  {
   "cell_type": "code",
   "execution_count": null,
   "id": "3a784e55",
   "metadata": {},
   "outputs": [],
   "source": []
  }
 ],
 "metadata": {
  "kernelspec": {
   "display_name": "Python 3 (ipykernel)",
   "language": "python",
   "name": "python3"
  },
  "language_info": {
   "codemirror_mode": {
    "name": "ipython",
    "version": 3
   },
   "file_extension": ".py",
   "mimetype": "text/x-python",
   "name": "python",
   "nbconvert_exporter": "python",
   "pygments_lexer": "ipython3",
   "version": "3.11.5"
  }
 },
 "nbformat": 4,
 "nbformat_minor": 5
}
