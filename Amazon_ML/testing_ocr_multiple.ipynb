{
 "cells": [
  {
   "cell_type": "code",
   "execution_count": 4,
   "id": "6e6570ab-67ad-4385-8657-acde38466878",
   "metadata": {},
   "outputs": [
    {
     "name": "stderr",
     "output_type": "stream",
     "text": [
      "Processing Images: 100%|███████████████████████████████████████████████████████████████| 10/10 [00:07<00:00,  1.25it/s]"
     ]
    },
    {
     "name": "stdout",
     "output_type": "stream",
     "text": [
      "OCR text extraction completed and saved to ocr_text.csv\n"
     ]
    },
    {
     "name": "stderr",
     "output_type": "stream",
     "text": [
      "\n"
     ]
    }
   ],
   "source": [
    "import pandas as pd\n",
    "import pytesseract\n",
    "from PIL import Image\n",
    "import requests\n",
    "from io import BytesIO\n",
    "from tqdm import tqdm  # Import tqdm for progress bar\n",
    "\n",
    "# Tesseract Path Setup (Windows only, uncomment below line if needed)\n",
    "# pytesseract.pytesseract.tesseract_cmd = r'C:\\Program Files\\Tesseract-OCR\\tesseract.exe'\n",
    "\n",
    "# Function to download image and extract text\n",
    "def extract_text_from_image(image_url):\n",
    "    try:\n",
    "        # Download image from the URL\n",
    "        response = requests.get(image_url)\n",
    "        img = Image.open(BytesIO(response.content))\n",
    "\n",
    "        # Extract text from image\n",
    "        extracted_text = pytesseract.image_to_string(img)\n",
    "        return extracted_text\n",
    "    except Exception as e:\n",
    "        return str(e)  # Return the error message if something goes wrong\n",
    "\n",
    "# Path to the dataset CSV file\n",
    "input_csv_path = 'dataset/train.csv'\n",
    "\n",
    "# Read the dataset CSV file\n",
    "df = pd.read_csv(input_csv_path)\n",
    "\n",
    "# Create a list to hold results\n",
    "results_list = []\n",
    "\n",
    "# Process the first 100 entries with a progress bar\n",
    "for index, row in tqdm(df.head(10).iterrows(), total=df.head(10).shape[0], desc='Processing Images'):\n",
    "    image_url = row['image_link']\n",
    "    extracted_text = extract_text_from_image(image_url)\n",
    "    \n",
    "    # Append the result to the list\n",
    "    results_list.append({'image_link': image_url, 'text': extracted_text})\n",
    "\n",
    "# Convert the list to a DataFrame\n",
    "results_df = pd.DataFrame(results_list)\n",
    "\n",
    "# Path to the output CSV file\n",
    "output_csv_path = 'ocr_text.csv'\n",
    "\n",
    "# Save the results to a new CSV file\n",
    "results_df.to_csv(output_csv_path, index=False)\n",
    "\n",
    "print(\"OCR text extraction completed and saved to ocr_text.csv\")\n"
   ]
  },
  {
   "cell_type": "code",
   "execution_count": null,
   "id": "138b1b25-b069-43da-b779-fd31f3f904e1",
   "metadata": {},
   "outputs": [],
   "source": []
  }
 ],
 "metadata": {
  "kernelspec": {
   "display_name": "sc",
   "language": "python",
   "name": "sc"
  },
  "language_info": {
   "codemirror_mode": {
    "name": "ipython",
    "version": 3
   },
   "file_extension": ".py",
   "mimetype": "text/x-python",
   "name": "python",
   "nbconvert_exporter": "python",
   "pygments_lexer": "ipython3",
   "version": "3.11.9"
  }
 },
 "nbformat": 4,
 "nbformat_minor": 5
}
