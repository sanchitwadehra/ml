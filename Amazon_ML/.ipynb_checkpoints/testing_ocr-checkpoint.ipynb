{
 "cells": [
  {
   "cell_type": "code",
   "execution_count": 4,
   "id": "e522719e-b82f-4ba1-b528-f73710463935",
   "metadata": {},
   "outputs": [
    {
     "ename": "IndentationError",
     "evalue": "unexpected indent (3666731036.py, line 22)",
     "output_type": "error",
     "traceback": [
      "\u001b[1;36m  Cell \u001b[1;32mIn[4], line 22\u001b[1;36m\u001b[0m\n\u001b[1;33m    img = img.point(lambda p: p > 128 and 255)\u001b[0m\n\u001b[1;37m    ^\u001b[0m\n\u001b[1;31mIndentationError\u001b[0m\u001b[1;31m:\u001b[0m unexpected indent\n"
     ]
    }
   ],
   "source": [
    "import pytesseract\n",
    "from PIL import Image, ImageEnhance, ImageFilter\n",
    "import requests\n",
    "from io import BytesIO\n",
    "\n",
    "# Function to download image and preprocess before extracting text\n",
    "def extract_text_from_image(image_url):\n",
    "    # Download image from the URL\n",
    "    response = requests.get(image_url)\n",
    "    img = Image.open(BytesIO(response.content))\n",
    "\n",
    "    # Preprocessing: Convert image to grayscale\n",
    "    img = img.convert('L')\n",
    "\n",
    "    # Preprocessing: Resize image to enhance smaller text\n",
    "    from PIL import Image\n",
    "\n",
    "    img = img.resize((img.width * 2, img.height * 2), Image.Resampling.LANCZOS)\n",
    "\n",
    "\n",
    "    # Preprocessing: Apply thresholding\n",
    "    img = img.point(lambda p: p > 128 and 255)\n",
    "\n",
    "    # Extract text from preprocessed image\n",
    "    extracted_text = pytesseract.image_to_string(img)\n",
    "    return extracted_text\n",
    "\n",
    "# Test image link\n",
    "image_url = \"https://m.media-amazon.com/images/I/31bt5k4Ul3L.jpg\"\n",
    "\n",
    "# Extract and print the text from the image\n",
    "text = extract_text_from_image(image_url)\n",
    "print(\"Extracted Text from Image:\")\n",
    "print(text)\n"
   ]
  },
  {
   "cell_type": "code",
   "execution_count": null,
   "id": "263c4aec-56be-4c3e-8b83-554c442895a6",
   "metadata": {},
   "outputs": [],
   "source": []
  }
 ],
 "metadata": {
  "kernelspec": {
   "display_name": "sc",
   "language": "python",
   "name": "sc"
  },
  "language_info": {
   "codemirror_mode": {
    "name": "ipython",
    "version": 3
   },
   "file_extension": ".py",
   "mimetype": "text/x-python",
   "name": "python",
   "nbconvert_exporter": "python",
   "pygments_lexer": "ipython3",
   "version": "3.11.9"
  }
 },
 "nbformat": 4,
 "nbformat_minor": 5
}
