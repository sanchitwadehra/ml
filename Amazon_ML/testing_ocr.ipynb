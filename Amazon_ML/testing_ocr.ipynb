{
 "cells": [
  {
   "cell_type": "code",
   "execution_count": 8,
   "id": "e522719e-b82f-4ba1-b528-f73710463935",
   "metadata": {},
   "outputs": [
    {
     "name": "stdout",
     "output_type": "stream",
     "text": [
      "Extracted Text from Image:\n",
      "|\n",
      "i : Helps in *\n",
      "bs osteoarthritis Helps wn\n",
      "ee digestion\n",
      "“Reduces.\n",
      "inflammation ox\n",
      "\n",
      "Anti-bacierial?\n",
      "properties ,\n",
      "\n",
      "\n"
     ]
    }
   ],
   "source": [
    "import pytesseract\n",
    "from PIL import Image\n",
    "import requests\n",
    "from io import BytesIO\n",
    "\n",
    "# Tesseract Path Setup (Windows only, uncomment below line)\n",
    "# pytesseract.pytesseract.tesseract_cmd = r'C:\\Program Files\\Tesseract-OCR\\tesseract.exe'\n",
    "\n",
    "# Function to download image and extract text\n",
    "def extract_text_from_image(image_url):\n",
    "    # Download image from the URL\n",
    "    response = requests.get(image_url)\n",
    "    img = Image.open(BytesIO(response.content))\n",
    "\n",
    "    # Extract text from image\n",
    "    extracted_text = pytesseract.image_to_string(img)\n",
    "    return extracted_text\n",
    "\n",
    "# Test image link\n",
    "image_url = \"https://m.media-amazon.com/images/I/91LPf6OjV9L.jpg\"\n",
    "\n",
    "# Extract and print the text from the image\n",
    "text = extract_text_from_image(image_url)\n",
    "print(\"Extracted Text from Image:\")\n",
    "print(text)\n"
   ]
  },
  {
   "cell_type": "code",
   "execution_count": null,
   "id": "263c4aec-56be-4c3e-8b83-554c442895a6",
   "metadata": {},
   "outputs": [],
   "source": []
  }
 ],
 "metadata": {
  "kernelspec": {
   "display_name": "sc",
   "language": "python",
   "name": "sc"
  },
  "language_info": {
   "codemirror_mode": {
    "name": "ipython",
    "version": 3
   },
   "file_extension": ".py",
   "mimetype": "text/x-python",
   "name": "python",
   "nbconvert_exporter": "python",
   "pygments_lexer": "ipython3",
   "version": "3.11.9"
  }
 },
 "nbformat": 4,
 "nbformat_minor": 5
}
