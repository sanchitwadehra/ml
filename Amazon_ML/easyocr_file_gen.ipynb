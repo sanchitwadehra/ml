{
 "cells": [
  {
   "cell_type": "code",
   "execution_count": null,
   "id": "4c4d81db-d2fb-4513-a31f-4525d73405ae",
   "metadata": {},
   "outputs": [
    {
     "name": "stderr",
     "output_type": "stream",
     "text": [
      "C:\\Users\\sanch\\anaconda3\\envs\\sc\\Lib\\site-packages\\torchvision\\io\\image.py:13: UserWarning: Failed to load image Python extension: '[WinError 127] The specified procedure could not be found'If you don't plan on using image functionality from `torchvision.io`, you can ignore this warning. Otherwise, there might be something wrong with your environment. Did you have `libjpeg` or `libpng` installed before building `torchvision` from source?\n",
      "  warn(\n",
      "Neither CUDA nor MPS are available - defaulting to CPU. Note: This module is much faster with a GPU.\n"
     ]
    },
    {
     "name": "stdin",
     "output_type": "stream",
     "text": [
      "Enter the number of elements to process (e.g., 50, 100) or type 'all' to process all entries:  10\n"
     ]
    },
    {
     "name": "stderr",
     "output_type": "stream",
     "text": [
      "Processing Images:  80%|███████████████████████████████████████████████████▏            | 8/10 [04:21<01:25, 42.70s/it]"
     ]
    }
   ],
   "source": [
    "import easyocr\n",
    "import pandas as pd\n",
    "import requests\n",
    "from io import BytesIO\n",
    "from PIL import Image\n",
    "from tqdm import tqdm\n",
    "\n",
    "# Create an EasyOCR reader object with GPU support\n",
    "reader = easyocr.Reader(['en'], gpu=True)\n",
    "\n",
    "# Function to download image and extract text using EasyOCR\n",
    "def extract_text_from_image(image_url):\n",
    "    try:\n",
    "        # Download image from the URL\n",
    "        response = requests.get(image_url)\n",
    "        img = Image.open(BytesIO(response.content))\n",
    "\n",
    "        # Extract text from image\n",
    "        extracted_text = reader.readtext(img, detail=0)  # Use PIL Image object directly\n",
    "        return ' '.join(extracted_text)  # Joining list of text into a single string\n",
    "    except Exception as e:\n",
    "        return str(e)  # Return the error message if something goes wrong\n",
    "\n",
    "# Path to the dataset CSV file\n",
    "input_csv_path = 'dataset/train.csv'\n",
    "\n",
    "# Read the dataset CSV file\n",
    "df = pd.read_csv(input_csv_path)\n",
    "\n",
    "# Prompt the user for the number of entries to process\n",
    "user_input = input(\"Enter the number of elements to process (e.g., 50, 100) or type 'all' to process all entries: \")\n",
    "\n",
    "# Determine the number of entries to process\n",
    "if user_input.lower() == 'all':\n",
    "    num_entries = df.shape[0]\n",
    "else:\n",
    "    try:\n",
    "        num_entries = int(user_input)\n",
    "        if num_entries > df.shape[0]:\n",
    "            num_entries = df.shape[0]  # Limit to the number of available rows\n",
    "    except ValueError:\n",
    "        print(\"Invalid input. Processing the first 10 entries by default.\")\n",
    "        num_entries = 10\n",
    "\n",
    "# Create a list to hold results\n",
    "results_list = []\n",
    "\n",
    "# Process the specified number of entries with a progress bar\n",
    "for index, row in tqdm(df.head(num_entries).iterrows(), total=num_entries, desc='Processing Images'):\n",
    "    image_url = row['image_link']\n",
    "    extracted_text = extract_text_from_image(image_url)\n",
    "    \n",
    "    # Append the result to the list\n",
    "    results_list.append({\n",
    "        'group_id': row['group_id'],\n",
    "        'image_link': image_url,\n",
    "        'text_ext': extracted_text,\n",
    "        'entity_name': row['entity_name'],\n",
    "        'entity_value': row['entity_value']\n",
    "    })\n",
    "\n",
    "# Convert the list to a DataFrame\n",
    "results_df = pd.DataFrame(results_list)\n",
    "\n",
    "# Path to the output CSV file\n",
    "output_csv_path = 'easyocr_results.csv'\n",
    "\n",
    "# Save the results to a new CSV file\n",
    "results_df.to_csv(output_csv_path, index=False)\n",
    "\n",
    "print(f\"OCR text extraction completed and saved to {output_csv_path}\")\n"
   ]
  },
  {
   "cell_type": "code",
   "execution_count": null,
   "id": "2a7a7580-ea9f-4bda-9fac-b9cfec7d9279",
   "metadata": {},
   "outputs": [],
   "source": []
  }
 ],
 "metadata": {
  "kernelspec": {
   "display_name": "sc",
   "language": "python",
   "name": "sc"
  },
  "language_info": {
   "codemirror_mode": {
    "name": "ipython",
    "version": 3
   },
   "file_extension": ".py",
   "mimetype": "text/x-python",
   "name": "python",
   "nbconvert_exporter": "python",
   "pygments_lexer": "ipython3",
   "version": "3.11.9"
  }
 },
 "nbformat": 4,
 "nbformat_minor": 5
}
